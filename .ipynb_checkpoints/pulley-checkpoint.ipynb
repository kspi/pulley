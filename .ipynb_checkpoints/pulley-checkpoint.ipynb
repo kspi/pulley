{
 "cells": [
  {
   "cell_type": "code",
   "execution_count": 1,
   "metadata": {
    "collapsed": true
   },
   "outputs": [],
   "source": [
    "import pandas\n",
    "import numpy"
   ]
  },
  {
   "cell_type": "code",
   "execution_count": 2,
   "metadata": {
    "collapsed": false
   },
   "outputs": [
    {
     "data": {
      "text/html": [
       "<div>\n",
       "<table border=\"1\" class=\"dataframe\">\n",
       "  <thead>\n",
       "    <tr style=\"text-align: right;\">\n",
       "      <th></th>\n",
       "      <th>spindle</th>\n",
       "      <th>d1</th>\n",
       "      <th>d2</th>\n",
       "      <th>d3</th>\n",
       "      <th>d4</th>\n",
       "      <th>ratio</th>\n",
       "    </tr>\n",
       "  </thead>\n",
       "  <tbody>\n",
       "    <tr>\n",
       "      <th>0</th>\n",
       "      <td>110</td>\n",
       "      <td>45</td>\n",
       "      <td>a</td>\n",
       "      <td>d</td>\n",
       "      <td>184</td>\n",
       "      <td>0.078571</td>\n",
       "    </tr>\n",
       "    <tr>\n",
       "      <th>1</th>\n",
       "      <td>190</td>\n",
       "      <td>45</td>\n",
       "      <td>a</td>\n",
       "      <td>c</td>\n",
       "      <td>159</td>\n",
       "      <td>0.135714</td>\n",
       "    </tr>\n",
       "    <tr>\n",
       "      <th>2</th>\n",
       "      <td>220</td>\n",
       "      <td>65</td>\n",
       "      <td>b</td>\n",
       "      <td>d</td>\n",
       "      <td>184</td>\n",
       "      <td>0.157143</td>\n",
       "    </tr>\n",
       "    <tr>\n",
       "      <th>3</th>\n",
       "      <td>320</td>\n",
       "      <td>45</td>\n",
       "      <td>a</td>\n",
       "      <td>b</td>\n",
       "      <td>136</td>\n",
       "      <td>0.228571</td>\n",
       "    </tr>\n",
       "    <tr>\n",
       "      <th>4</th>\n",
       "      <td>380</td>\n",
       "      <td>65</td>\n",
       "      <td>b</td>\n",
       "      <td>c</td>\n",
       "      <td>159</td>\n",
       "      <td>0.271429</td>\n",
       "    </tr>\n",
       "    <tr>\n",
       "      <th>5</th>\n",
       "      <td>430</td>\n",
       "      <td>90</td>\n",
       "      <td>c</td>\n",
       "      <td>d</td>\n",
       "      <td>184</td>\n",
       "      <td>0.307143</td>\n",
       "    </tr>\n",
       "    <tr>\n",
       "      <th>6</th>\n",
       "      <td>860</td>\n",
       "      <td>65</td>\n",
       "      <td>b</td>\n",
       "      <td>a</td>\n",
       "      <td>117</td>\n",
       "      <td>0.614286</td>\n",
       "    </tr>\n",
       "    <tr>\n",
       "      <th>7</th>\n",
       "      <td>1170</td>\n",
       "      <td>90</td>\n",
       "      <td>c</td>\n",
       "      <td>b</td>\n",
       "      <td>136</td>\n",
       "      <td>0.835714</td>\n",
       "    </tr>\n",
       "    <tr>\n",
       "      <th>8</th>\n",
       "      <td>1260</td>\n",
       "      <td>99</td>\n",
       "      <td>d</td>\n",
       "      <td>c</td>\n",
       "      <td>159</td>\n",
       "      <td>0.900000</td>\n",
       "    </tr>\n",
       "    <tr>\n",
       "      <th>9</th>\n",
       "      <td>1680</td>\n",
       "      <td>90</td>\n",
       "      <td>c</td>\n",
       "      <td>a</td>\n",
       "      <td>117</td>\n",
       "      <td>1.200000</td>\n",
       "    </tr>\n",
       "    <tr>\n",
       "      <th>10</th>\n",
       "      <td>2000</td>\n",
       "      <td>99</td>\n",
       "      <td>d</td>\n",
       "      <td>b</td>\n",
       "      <td>136</td>\n",
       "      <td>1.428571</td>\n",
       "    </tr>\n",
       "    <tr>\n",
       "      <th>11</th>\n",
       "      <td>2880</td>\n",
       "      <td>99</td>\n",
       "      <td>d</td>\n",
       "      <td>a</td>\n",
       "      <td>117</td>\n",
       "      <td>2.057143</td>\n",
       "    </tr>\n",
       "  </tbody>\n",
       "</table>\n",
       "</div>"
      ],
      "text/plain": [
       "    spindle  d1 d2 d3   d4     ratio\n",
       "0       110  45  a  d  184  0.078571\n",
       "1       190  45  a  c  159  0.135714\n",
       "2       220  65  b  d  184  0.157143\n",
       "3       320  45  a  b  136  0.228571\n",
       "4       380  65  b  c  159  0.271429\n",
       "5       430  90  c  d  184  0.307143\n",
       "6       860  65  b  a  117  0.614286\n",
       "7      1170  90  c  b  136  0.835714\n",
       "8      1260  99  d  c  159  0.900000\n",
       "9      1680  90  c  a  117  1.200000\n",
       "10     2000  99  d  b  136  1.428571\n",
       "11     2880  99  d  a  117  2.057143"
      ]
     },
     "execution_count": 2,
     "metadata": {},
     "output_type": "execute_result"
    }
   ],
   "source": [
    "motor = 1400 #rpm\n",
    "\n",
    "table = pandas.read_table(\"table.txt\")\n",
    "table['ratio'] = table.spindle / motor\n",
    "table"
   ]
  },
  {
   "cell_type": "markdown",
   "metadata": {},
   "source": [
    "Kiekvieną lentelės eilutę atitinka viena tiesinė lygtis.\n",
    "\n",
    "$R = \\frac{d_1}{d_2} \\frac{d_3}{d_4}$\n",
    "\n",
    "$d_2 = \\frac{d_1 d_3}{R d_4}$\n",
    "\n",
    "$d_2 - \\frac{d_1}{R d_4} d_3 = 0$"
   ]
  },
  {
   "cell_type": "markdown",
   "metadata": {},
   "source": [
    "Fiksuojame A ir sudarome lygčių sistemą su trim nežinomaisiais: B, C, D. Lygčių sistemos matrica:"
   ]
  },
  {
   "cell_type": "code",
   "execution_count": 3,
   "metadata": {
    "collapsed": false
   },
   "outputs": [
    {
     "data": {
      "text/plain": [
       "matrix([[   0.        ,    0.        ,   -3.11264822, -154.        ],\n",
       "        [   0.        ,   -2.08540218,    0.        , -154.        ],\n",
       "        [   1.        ,    0.        ,   -2.24802372,    0.        ],\n",
       "        [  -1.44761029,    0.        ,    0.        , -154.        ],\n",
       "        [   1.        ,   -1.5061238 ,    0.        ,    0.        ],\n",
       "        [   0.        ,    1.        ,   -1.59251769,    0.        ],\n",
       "        [   1.        ,    0.        ,    0.        ,  139.27648579],\n",
       "        [  -0.7918552 ,    1.        ,    0.        ,    0.        ],\n",
       "        [   0.        ,   -0.6918239 ,    1.        ,    0.        ],\n",
       "        [   0.        ,    1.        ,    0.        ,   98.71794872],\n",
       "        [  -0.50955882,    0.        ,    1.        ,    0.        ],\n",
       "        [   0.        ,    0.        ,    1.        ,   63.34401709]])"
      ]
     },
     "execution_count": 3,
     "metadata": {},
     "output_type": "execute_result"
    }
   ],
   "source": [
    "d_a = 154\n",
    "\n",
    "indices = dict(zip(\"bcda\", range(4)))\n",
    "def buildrow(spindle, d1, d2, d3, d4, ratio, *args):\n",
    "    i2 = indices[d2]\n",
    "    i3 = indices[d3]\n",
    "    row = numpy.zeros(len(indices))\n",
    "    row[i2] = 1\n",
    "    row[i3] = -d1 / (ratio * d4)\n",
    "    if d2 == 'a':\n",
    "        row[i2] *= -d_a\n",
    "    if d3 == 'a':\n",
    "        row[i3] *= -d_a\n",
    "    return row\n",
    "\n",
    "coeffs = numpy.matrix([buildrow(*r) for i, r in table.iterrows()])\n",
    "coeffs"
   ]
  },
  {
   "cell_type": "code",
   "execution_count": 4,
   "metadata": {
    "collapsed": false
   },
   "outputs": [
    {
     "name": "stdout",
     "output_type": "stream",
     "text": [
      "[[ 114.64316755   79.28609332   51.28369977]] [[ 1657.82250251]] 3 [ 4.59427981  3.32276562  2.05141799]\n"
     ]
    },
    {
     "data": {
      "text/plain": [
       "a    154.000000\n",
       "b    114.643168\n",
       "c     79.286093\n",
       "d     51.283700\n",
       "dtype: float64"
      ]
     },
     "execution_count": 4,
     "metadata": {},
     "output_type": "execute_result"
    }
   ],
   "source": [
    "n = len(indices)\n",
    "solution, residuals, rank, singular = numpy.linalg.lstsq(coeffs[:,0:n - 1], coeffs[:,n - 1])\n",
    "print(solution.T, residuals, rank, singular)\n",
    "\n",
    "ds = pandas.Series([d_a] + list(solution.flat), index=list(\"abcd\"))\n",
    "ds"
   ]
  },
  {
   "cell_type": "markdown",
   "metadata": {},
   "source": [
    "Gauti dydžiai suapvalinami iki milimetrų:"
   ]
  },
  {
   "cell_type": "code",
   "execution_count": 5,
   "metadata": {
    "collapsed": false
   },
   "outputs": [
    {
     "data": {
      "text/plain": [
       "a    154\n",
       "b    115\n",
       "c     79\n",
       "d     51\n",
       "dtype: float64"
      ]
     },
     "execution_count": 5,
     "metadata": {},
     "output_type": "execute_result"
    }
   ],
   "source": [
    "ds = numpy.round(ds)\n",
    "ds"
   ]
  },
  {
   "cell_type": "markdown",
   "metadata": {},
   "source": [
    "Gauti greičiai stulpelyje actual_spindle:"
   ]
  },
  {
   "cell_type": "code",
   "execution_count": 6,
   "metadata": {
    "collapsed": false
   },
   "outputs": [
    {
     "data": {
      "text/html": [
       "<div>\n",
       "<table border=\"1\" class=\"dataframe\">\n",
       "  <thead>\n",
       "    <tr style=\"text-align: right;\">\n",
       "      <th></th>\n",
       "      <th>spindle</th>\n",
       "      <th>d1</th>\n",
       "      <th>d2</th>\n",
       "      <th>d3</th>\n",
       "      <th>d4</th>\n",
       "      <th>ratio</th>\n",
       "      <th>actual_ratio</th>\n",
       "      <th>actual_spindle</th>\n",
       "    </tr>\n",
       "  </thead>\n",
       "  <tbody>\n",
       "    <tr>\n",
       "      <th>0</th>\n",
       "      <td>110</td>\n",
       "      <td>45</td>\n",
       "      <td>a</td>\n",
       "      <td>d</td>\n",
       "      <td>184</td>\n",
       "      <td>0.078571</td>\n",
       "      <td>0.080992</td>\n",
       "      <td>113.389328</td>\n",
       "    </tr>\n",
       "    <tr>\n",
       "      <th>1</th>\n",
       "      <td>190</td>\n",
       "      <td>45</td>\n",
       "      <td>a</td>\n",
       "      <td>c</td>\n",
       "      <td>159</td>\n",
       "      <td>0.135714</td>\n",
       "      <td>0.145185</td>\n",
       "      <td>203.259005</td>\n",
       "    </tr>\n",
       "    <tr>\n",
       "      <th>2</th>\n",
       "      <td>220</td>\n",
       "      <td>65</td>\n",
       "      <td>b</td>\n",
       "      <td>d</td>\n",
       "      <td>184</td>\n",
       "      <td>0.157143</td>\n",
       "      <td>0.156664</td>\n",
       "      <td>219.328922</td>\n",
       "    </tr>\n",
       "    <tr>\n",
       "      <th>3</th>\n",
       "      <td>320</td>\n",
       "      <td>45</td>\n",
       "      <td>a</td>\n",
       "      <td>b</td>\n",
       "      <td>136</td>\n",
       "      <td>0.228571</td>\n",
       "      <td>0.247087</td>\n",
       "      <td>345.922460</td>\n",
       "    </tr>\n",
       "    <tr>\n",
       "      <th>4</th>\n",
       "      <td>380</td>\n",
       "      <td>65</td>\n",
       "      <td>b</td>\n",
       "      <td>c</td>\n",
       "      <td>159</td>\n",
       "      <td>0.271429</td>\n",
       "      <td>0.280831</td>\n",
       "      <td>393.163795</td>\n",
       "    </tr>\n",
       "    <tr>\n",
       "      <th>5</th>\n",
       "      <td>430</td>\n",
       "      <td>90</td>\n",
       "      <td>c</td>\n",
       "      <td>d</td>\n",
       "      <td>184</td>\n",
       "      <td>0.307143</td>\n",
       "      <td>0.315768</td>\n",
       "      <td>442.074849</td>\n",
       "    </tr>\n",
       "    <tr>\n",
       "      <th>6</th>\n",
       "      <td>860</td>\n",
       "      <td>65</td>\n",
       "      <td>b</td>\n",
       "      <td>a</td>\n",
       "      <td>117</td>\n",
       "      <td>0.614286</td>\n",
       "      <td>0.743961</td>\n",
       "      <td>1041.545894</td>\n",
       "    </tr>\n",
       "    <tr>\n",
       "      <th>7</th>\n",
       "      <td>1170</td>\n",
       "      <td>90</td>\n",
       "      <td>c</td>\n",
       "      <td>b</td>\n",
       "      <td>136</td>\n",
       "      <td>0.835714</td>\n",
       "      <td>0.963328</td>\n",
       "      <td>1348.659717</td>\n",
       "    </tr>\n",
       "    <tr>\n",
       "      <th>8</th>\n",
       "      <td>1260</td>\n",
       "      <td>99</td>\n",
       "      <td>d</td>\n",
       "      <td>c</td>\n",
       "      <td>159</td>\n",
       "      <td>0.900000</td>\n",
       "      <td>0.964484</td>\n",
       "      <td>1350.277469</td>\n",
       "    </tr>\n",
       "    <tr>\n",
       "      <th>9</th>\n",
       "      <td>1680</td>\n",
       "      <td>90</td>\n",
       "      <td>c</td>\n",
       "      <td>a</td>\n",
       "      <td>117</td>\n",
       "      <td>1.200000</td>\n",
       "      <td>1.499513</td>\n",
       "      <td>2099.318403</td>\n",
       "    </tr>\n",
       "    <tr>\n",
       "      <th>10</th>\n",
       "      <td>2000</td>\n",
       "      <td>99</td>\n",
       "      <td>d</td>\n",
       "      <td>b</td>\n",
       "      <td>136</td>\n",
       "      <td>1.428571</td>\n",
       "      <td>1.641436</td>\n",
       "      <td>2298.010381</td>\n",
       "    </tr>\n",
       "    <tr>\n",
       "      <th>11</th>\n",
       "      <td>2880</td>\n",
       "      <td>99</td>\n",
       "      <td>d</td>\n",
       "      <td>a</td>\n",
       "      <td>117</td>\n",
       "      <td>2.057143</td>\n",
       "      <td>2.555053</td>\n",
       "      <td>3577.073906</td>\n",
       "    </tr>\n",
       "  </tbody>\n",
       "</table>\n",
       "</div>"
      ],
      "text/plain": [
       "    spindle  d1 d2 d3   d4     ratio  actual_ratio  actual_spindle\n",
       "0       110  45  a  d  184  0.078571      0.080992      113.389328\n",
       "1       190  45  a  c  159  0.135714      0.145185      203.259005\n",
       "2       220  65  b  d  184  0.157143      0.156664      219.328922\n",
       "3       320  45  a  b  136  0.228571      0.247087      345.922460\n",
       "4       380  65  b  c  159  0.271429      0.280831      393.163795\n",
       "5       430  90  c  d  184  0.307143      0.315768      442.074849\n",
       "6       860  65  b  a  117  0.614286      0.743961     1041.545894\n",
       "7      1170  90  c  b  136  0.835714      0.963328     1348.659717\n",
       "8      1260  99  d  c  159  0.900000      0.964484     1350.277469\n",
       "9      1680  90  c  a  117  1.200000      1.499513     2099.318403\n",
       "10     2000  99  d  b  136  1.428571      1.641436     2298.010381\n",
       "11     2880  99  d  a  117  2.057143      2.555053     3577.073906"
      ]
     },
     "execution_count": 6,
     "metadata": {},
     "output_type": "execute_result"
    }
   ],
   "source": [
    "dsdict = dict(ds)\n",
    "table['actual_ratio'] = [r.d1 / dsdict[r.d2] * dsdict[r.d3] / r.d4 for i, r in table.iterrows()]\n",
    "table['actual_spindle'] = table['actual_ratio'] * motor\n",
    "table"
   ]
  },
  {
   "cell_type": "code",
   "execution_count": null,
   "metadata": {
    "collapsed": true
   },
   "outputs": [],
   "source": []
  }
 ],
 "metadata": {
  "kernelspec": {
   "display_name": "Python 3",
   "language": "python",
   "name": "python3"
  },
  "language_info": {
   "codemirror_mode": {
    "name": "ipython",
    "version": 3
   },
   "file_extension": ".py",
   "mimetype": "text/x-python",
   "name": "python",
   "nbconvert_exporter": "python",
   "pygments_lexer": "ipython3",
   "version": "3.5.1"
  }
 },
 "nbformat": 4,
 "nbformat_minor": 0
}
