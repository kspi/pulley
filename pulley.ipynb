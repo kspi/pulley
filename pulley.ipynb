{
 "cells": [
  {
   "cell_type": "code",
   "execution_count": 1,
   "metadata": {
    "collapsed": true
   },
   "outputs": [],
   "source": [
    "import pandas\n",
    "import numpy\n",
    "from scipy.optimize import minimize"
   ]
  },
  {
   "cell_type": "code",
   "execution_count": 2,
   "metadata": {
    "collapsed": false
   },
   "outputs": [
    {
     "data": {
      "text/html": [
       "<div>\n",
       "<table border=\"1\" class=\"dataframe\">\n",
       "  <thead>\n",
       "    <tr style=\"text-align: right;\">\n",
       "      <th></th>\n",
       "      <th>spindle</th>\n",
       "      <th>d1</th>\n",
       "      <th>d2</th>\n",
       "      <th>d3</th>\n",
       "      <th>d4</th>\n",
       "      <th>ratio</th>\n",
       "    </tr>\n",
       "  </thead>\n",
       "  <tbody>\n",
       "    <tr>\n",
       "      <th>0</th>\n",
       "      <td>110</td>\n",
       "      <td>45</td>\n",
       "      <td>a</td>\n",
       "      <td>d</td>\n",
       "      <td>184</td>\n",
       "      <td>0.078571</td>\n",
       "    </tr>\n",
       "    <tr>\n",
       "      <th>1</th>\n",
       "      <td>190</td>\n",
       "      <td>45</td>\n",
       "      <td>a</td>\n",
       "      <td>c</td>\n",
       "      <td>159</td>\n",
       "      <td>0.135714</td>\n",
       "    </tr>\n",
       "    <tr>\n",
       "      <th>2</th>\n",
       "      <td>220</td>\n",
       "      <td>65</td>\n",
       "      <td>b</td>\n",
       "      <td>d</td>\n",
       "      <td>184</td>\n",
       "      <td>0.157143</td>\n",
       "    </tr>\n",
       "    <tr>\n",
       "      <th>3</th>\n",
       "      <td>320</td>\n",
       "      <td>45</td>\n",
       "      <td>a</td>\n",
       "      <td>b</td>\n",
       "      <td>136</td>\n",
       "      <td>0.228571</td>\n",
       "    </tr>\n",
       "    <tr>\n",
       "      <th>4</th>\n",
       "      <td>380</td>\n",
       "      <td>65</td>\n",
       "      <td>b</td>\n",
       "      <td>c</td>\n",
       "      <td>159</td>\n",
       "      <td>0.271429</td>\n",
       "    </tr>\n",
       "    <tr>\n",
       "      <th>5</th>\n",
       "      <td>430</td>\n",
       "      <td>90</td>\n",
       "      <td>c</td>\n",
       "      <td>d</td>\n",
       "      <td>184</td>\n",
       "      <td>0.307143</td>\n",
       "    </tr>\n",
       "    <tr>\n",
       "      <th>6</th>\n",
       "      <td>860</td>\n",
       "      <td>65</td>\n",
       "      <td>b</td>\n",
       "      <td>a</td>\n",
       "      <td>117</td>\n",
       "      <td>0.614286</td>\n",
       "    </tr>\n",
       "    <tr>\n",
       "      <th>7</th>\n",
       "      <td>1170</td>\n",
       "      <td>90</td>\n",
       "      <td>c</td>\n",
       "      <td>b</td>\n",
       "      <td>136</td>\n",
       "      <td>0.835714</td>\n",
       "    </tr>\n",
       "    <tr>\n",
       "      <th>8</th>\n",
       "      <td>1260</td>\n",
       "      <td>99</td>\n",
       "      <td>d</td>\n",
       "      <td>c</td>\n",
       "      <td>159</td>\n",
       "      <td>0.900000</td>\n",
       "    </tr>\n",
       "    <tr>\n",
       "      <th>9</th>\n",
       "      <td>1680</td>\n",
       "      <td>90</td>\n",
       "      <td>c</td>\n",
       "      <td>a</td>\n",
       "      <td>117</td>\n",
       "      <td>1.200000</td>\n",
       "    </tr>\n",
       "    <tr>\n",
       "      <th>10</th>\n",
       "      <td>2000</td>\n",
       "      <td>99</td>\n",
       "      <td>d</td>\n",
       "      <td>b</td>\n",
       "      <td>136</td>\n",
       "      <td>1.428571</td>\n",
       "    </tr>\n",
       "    <tr>\n",
       "      <th>11</th>\n",
       "      <td>2880</td>\n",
       "      <td>99</td>\n",
       "      <td>d</td>\n",
       "      <td>a</td>\n",
       "      <td>117</td>\n",
       "      <td>2.057143</td>\n",
       "    </tr>\n",
       "  </tbody>\n",
       "</table>\n",
       "</div>"
      ],
      "text/plain": [
       "    spindle  d1 d2 d3   d4     ratio\n",
       "0       110  45  a  d  184  0.078571\n",
       "1       190  45  a  c  159  0.135714\n",
       "2       220  65  b  d  184  0.157143\n",
       "3       320  45  a  b  136  0.228571\n",
       "4       380  65  b  c  159  0.271429\n",
       "5       430  90  c  d  184  0.307143\n",
       "6       860  65  b  a  117  0.614286\n",
       "7      1170  90  c  b  136  0.835714\n",
       "8      1260  99  d  c  159  0.900000\n",
       "9      1680  90  c  a  117  1.200000\n",
       "10     2000  99  d  b  136  1.428571\n",
       "11     2880  99  d  a  117  2.057143"
      ]
     },
     "execution_count": 2,
     "metadata": {},
     "output_type": "execute_result"
    }
   ],
   "source": [
    "motor = 1400 #rpm\n",
    "\n",
    "table = pandas.read_table(\"table.txt\")\n",
    "table['ratio'] = table.spindle / motor\n",
    "table"
   ]
  },
  {
   "cell_type": "markdown",
   "metadata": {},
   "source": [
    "Kiekvieną lentelės eilutę atitinka viena tiesinė lygtis.\n",
    "\n",
    "$R = \\frac{d_1}{d_2} \\frac{d_3}{d_4}$\n",
    "\n",
    "$d_2 = \\frac{d_1 d_3}{R d_4}$\n",
    "\n",
    "$d_2 - \\frac{d_1}{R d_4} d_3 = 0$"
   ]
  },
  {
   "cell_type": "markdown",
   "metadata": {},
   "source": [
    "Fiksuojame A ir sudarome lygčių sistemą su trim nežinomaisiais: B, C, D. Lygčių sistemos matrica:"
   ]
  },
  {
   "cell_type": "code",
   "execution_count": 46,
   "metadata": {
    "collapsed": false
   },
   "outputs": [
    {
     "name": "stdout",
     "output_type": "stream",
     "text": [
      "13.8246164688\n",
      "...13.8246164688\n",
      "....."
     ]
    },
    {
     "data": {
      "text/plain": [
       "      fun: 13.824616468790396\n",
       " hess_inv: <3x3 LbfgsInvHessProduct with dtype=float64>\n",
       "      jac: array([  3.55271368e-07,   0.00000000e+00,  -3.55271368e-06])\n",
       "  message: b'CONVERGENCE: NORM_OF_PROJECTED_GRADIENT_<=_PGTOL'\n",
       "     nfev: 92\n",
       "      nit: 19\n",
       "   status: 0\n",
       "  success: True\n",
       "        x: array([ 125.22054381,   89.90048134,   62.07443187])"
      ]
     },
     "execution_count": 46,
     "metadata": {},
     "output_type": "execute_result"
    }
   ],
   "source": [
    "diameter_a = 154\n",
    "max_spindle = 2880\n",
    "\n",
    "\n",
    "def diameters(xs):\n",
    "    return pandas.Series([diameter_a] + list(xs), index=list('abcd'))\n",
    "\n",
    "def actual_ratios(ds):\n",
    "    dsdict = dict(ds)\n",
    "    return numpy.array([r.d1 / dsdict[r.d2] * dsdict[r.d3] / r.d4 for i, r in table.iterrows()])\n",
    "\n",
    "def percent_difference(x, y):\n",
    "    return x / y - 1\n",
    "\n",
    "def cost(xs):\n",
    "    speeds = motor * actual_ratios(diameters(xs))\n",
    "    delta = percent_difference(speeds, table['spindle'])\n",
    "    delta *= numpy.where(delta > 0, 2, 1)\n",
    "    cost = numpy.sum(numpy.abs(delta))\n",
    "    cost += 40 * abs(percent_difference(min(speeds), min(table['spindle'])))\n",
    "    cost += 50 * abs(max(0, percent_difference(max(speeds), max(table['spindle']))))\n",
    "    return cost\n",
    "    \n",
    "bounds = (45, diameter_a)\n",
    "def initial():\n",
    "    return sorted(numpy.random.uniform(*b, 3), reverse=True)\n",
    "result = minimize(cost, initial(), bounds=(bounds, bounds, bounds))\n",
    "for i in range(10):\n",
    "    r = minimize(cost, initial(), bounds=(bounds, bounds, bounds))\n",
    "    if r.fun < result.fun:\n",
    "        print(r.fun)\n",
    "        result = r\n",
    "    else:\n",
    "        print('.', end='')\n",
    "result"
   ]
  },
  {
   "cell_type": "code",
   "execution_count": 47,
   "metadata": {
    "collapsed": false
   },
   "outputs": [
    {
     "data": {
      "text/plain": [
       "a    154.000000\n",
       "b    125.220544\n",
       "c     89.900481\n",
       "d     62.074432\n",
       "dtype: float64"
      ]
     },
     "execution_count": 47,
     "metadata": {},
     "output_type": "execute_result"
    }
   ],
   "source": [
    "ds = diameters(result.x)\n",
    "ds"
   ]
  },
  {
   "cell_type": "markdown",
   "metadata": {},
   "source": [
    "Gauti dydžiai suapvalinami iki milimetrų:"
   ]
  },
  {
   "cell_type": "code",
   "execution_count": 52,
   "metadata": {
    "collapsed": false
   },
   "outputs": [
    {
     "data": {
      "text/plain": [
       "a    154\n",
       "b    125\n",
       "c     90\n",
       "d     62\n",
       "dtype: float64"
      ]
     },
     "execution_count": 52,
     "metadata": {},
     "output_type": "execute_result"
    }
   ],
   "source": [
    "ds = numpy.round(ds)\n",
    "ds"
   ]
  },
  {
   "cell_type": "markdown",
   "metadata": {},
   "source": [
    "Gauti greičiai stulpelyje actual_spindle:"
   ]
  },
  {
   "cell_type": "code",
   "execution_count": 55,
   "metadata": {
    "collapsed": false
   },
   "outputs": [
    {
     "data": {
      "text/html": [
       "<div>\n",
       "<table border=\"1\" class=\"dataframe\">\n",
       "  <thead>\n",
       "    <tr style=\"text-align: right;\">\n",
       "      <th></th>\n",
       "      <th>spindle</th>\n",
       "      <th>d1</th>\n",
       "      <th>d2</th>\n",
       "      <th>d3</th>\n",
       "      <th>d4</th>\n",
       "      <th>ratio</th>\n",
       "      <th>actual_ratio</th>\n",
       "      <th>actual_spindle</th>\n",
       "    </tr>\n",
       "  </thead>\n",
       "  <tbody>\n",
       "    <tr>\n",
       "      <th>0</th>\n",
       "      <td>110</td>\n",
       "      <td>45</td>\n",
       "      <td>a</td>\n",
       "      <td>d</td>\n",
       "      <td>184</td>\n",
       "      <td>0.078571</td>\n",
       "      <td>0.098461</td>\n",
       "      <td>137.845850</td>\n",
       "    </tr>\n",
       "    <tr>\n",
       "      <th>1</th>\n",
       "      <td>190</td>\n",
       "      <td>45</td>\n",
       "      <td>a</td>\n",
       "      <td>c</td>\n",
       "      <td>159</td>\n",
       "      <td>0.135714</td>\n",
       "      <td>0.165401</td>\n",
       "      <td>231.560892</td>\n",
       "    </tr>\n",
       "    <tr>\n",
       "      <th>2</th>\n",
       "      <td>220</td>\n",
       "      <td>65</td>\n",
       "      <td>b</td>\n",
       "      <td>d</td>\n",
       "      <td>184</td>\n",
       "      <td>0.157143</td>\n",
       "      <td>0.175217</td>\n",
       "      <td>245.304348</td>\n",
       "    </tr>\n",
       "    <tr>\n",
       "      <th>3</th>\n",
       "      <td>320</td>\n",
       "      <td>45</td>\n",
       "      <td>a</td>\n",
       "      <td>b</td>\n",
       "      <td>136</td>\n",
       "      <td>0.228571</td>\n",
       "      <td>0.268573</td>\n",
       "      <td>376.002674</td>\n",
       "    </tr>\n",
       "    <tr>\n",
       "      <th>4</th>\n",
       "      <td>380</td>\n",
       "      <td>65</td>\n",
       "      <td>b</td>\n",
       "      <td>c</td>\n",
       "      <td>159</td>\n",
       "      <td>0.271429</td>\n",
       "      <td>0.294340</td>\n",
       "      <td>412.075472</td>\n",
       "    </tr>\n",
       "    <tr>\n",
       "      <th>5</th>\n",
       "      <td>430</td>\n",
       "      <td>90</td>\n",
       "      <td>c</td>\n",
       "      <td>d</td>\n",
       "      <td>184</td>\n",
       "      <td>0.307143</td>\n",
       "      <td>0.336957</td>\n",
       "      <td>471.739130</td>\n",
       "    </tr>\n",
       "    <tr>\n",
       "      <th>6</th>\n",
       "      <td>860</td>\n",
       "      <td>65</td>\n",
       "      <td>b</td>\n",
       "      <td>a</td>\n",
       "      <td>117</td>\n",
       "      <td>0.614286</td>\n",
       "      <td>0.684444</td>\n",
       "      <td>958.222222</td>\n",
       "    </tr>\n",
       "    <tr>\n",
       "      <th>7</th>\n",
       "      <td>1170</td>\n",
       "      <td>90</td>\n",
       "      <td>c</td>\n",
       "      <td>b</td>\n",
       "      <td>136</td>\n",
       "      <td>0.835714</td>\n",
       "      <td>0.919118</td>\n",
       "      <td>1286.764706</td>\n",
       "    </tr>\n",
       "    <tr>\n",
       "      <th>8</th>\n",
       "      <td>1260</td>\n",
       "      <td>99</td>\n",
       "      <td>d</td>\n",
       "      <td>c</td>\n",
       "      <td>159</td>\n",
       "      <td>0.900000</td>\n",
       "      <td>0.903834</td>\n",
       "      <td>1265.368229</td>\n",
       "    </tr>\n",
       "    <tr>\n",
       "      <th>9</th>\n",
       "      <td>1680</td>\n",
       "      <td>90</td>\n",
       "      <td>c</td>\n",
       "      <td>a</td>\n",
       "      <td>117</td>\n",
       "      <td>1.200000</td>\n",
       "      <td>1.316239</td>\n",
       "      <td>1842.735043</td>\n",
       "    </tr>\n",
       "    <tr>\n",
       "      <th>10</th>\n",
       "      <td>2000</td>\n",
       "      <td>99</td>\n",
       "      <td>d</td>\n",
       "      <td>b</td>\n",
       "      <td>136</td>\n",
       "      <td>1.428571</td>\n",
       "      <td>1.467623</td>\n",
       "      <td>2054.672676</td>\n",
       "    </tr>\n",
       "    <tr>\n",
       "      <th>11</th>\n",
       "      <td>2880</td>\n",
       "      <td>99</td>\n",
       "      <td>d</td>\n",
       "      <td>a</td>\n",
       "      <td>117</td>\n",
       "      <td>2.057143</td>\n",
       "      <td>2.101737</td>\n",
       "      <td>2942.431762</td>\n",
       "    </tr>\n",
       "  </tbody>\n",
       "</table>\n",
       "</div>"
      ],
      "text/plain": [
       "    spindle  d1 d2 d3   d4     ratio  actual_ratio  actual_spindle\n",
       "0       110  45  a  d  184  0.078571      0.098461      137.845850\n",
       "1       190  45  a  c  159  0.135714      0.165401      231.560892\n",
       "2       220  65  b  d  184  0.157143      0.175217      245.304348\n",
       "3       320  45  a  b  136  0.228571      0.268573      376.002674\n",
       "4       380  65  b  c  159  0.271429      0.294340      412.075472\n",
       "5       430  90  c  d  184  0.307143      0.336957      471.739130\n",
       "6       860  65  b  a  117  0.614286      0.684444      958.222222\n",
       "7      1170  90  c  b  136  0.835714      0.919118     1286.764706\n",
       "8      1260  99  d  c  159  0.900000      0.903834     1265.368229\n",
       "9      1680  90  c  a  117  1.200000      1.316239     1842.735043\n",
       "10     2000  99  d  b  136  1.428571      1.467623     2054.672676\n",
       "11     2880  99  d  a  117  2.057143      2.101737     2942.431762"
      ]
     },
     "execution_count": 55,
     "metadata": {},
     "output_type": "execute_result"
    }
   ],
   "source": [
    "table['actual_ratio'] = actual_ratios(ds)\n",
    "table['actual_spindle'] = table['actual_ratio'] * motor\n",
    "table"
   ]
  }
 ],
 "metadata": {
  "kernelspec": {
   "display_name": "Python 3",
   "language": "python",
   "name": "python3"
  },
  "language_info": {
   "codemirror_mode": {
    "name": "ipython",
    "version": 3
   },
   "file_extension": ".py",
   "mimetype": "text/x-python",
   "name": "python",
   "nbconvert_exporter": "python",
   "pygments_lexer": "ipython3",
   "version": "3.5.1"
  }
 },
 "nbformat": 4,
 "nbformat_minor": 0
}
