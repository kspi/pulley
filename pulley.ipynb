{
 "cells": [
  {
   "cell_type": "code",
   "execution_count": 1,
   "metadata": {
    "collapsed": true
   },
   "outputs": [],
   "source": [
    "import pandas\n",
    "import numpy"
   ]
  },
  {
   "cell_type": "code",
   "execution_count": 2,
   "metadata": {
    "collapsed": false
   },
   "outputs": [
    {
     "data": {
      "text/html": [
       "<div>\n",
       "<table border=\"1\" class=\"dataframe\">\n",
       "  <thead>\n",
       "    <tr style=\"text-align: right;\">\n",
       "      <th></th>\n",
       "      <th>spindle</th>\n",
       "      <th>d1</th>\n",
       "      <th>d2</th>\n",
       "      <th>d3</th>\n",
       "      <th>d4</th>\n",
       "      <th>ratio</th>\n",
       "    </tr>\n",
       "  </thead>\n",
       "  <tbody>\n",
       "    <tr>\n",
       "      <th>0</th>\n",
       "      <td>110</td>\n",
       "      <td>45</td>\n",
       "      <td>a</td>\n",
       "      <td>d</td>\n",
       "      <td>184</td>\n",
       "      <td>0.078571</td>\n",
       "    </tr>\n",
       "    <tr>\n",
       "      <th>1</th>\n",
       "      <td>190</td>\n",
       "      <td>45</td>\n",
       "      <td>a</td>\n",
       "      <td>d</td>\n",
       "      <td>159</td>\n",
       "      <td>0.135714</td>\n",
       "    </tr>\n",
       "    <tr>\n",
       "      <th>2</th>\n",
       "      <td>220</td>\n",
       "      <td>65</td>\n",
       "      <td>b</td>\n",
       "      <td>d</td>\n",
       "      <td>184</td>\n",
       "      <td>0.157143</td>\n",
       "    </tr>\n",
       "    <tr>\n",
       "      <th>3</th>\n",
       "      <td>320</td>\n",
       "      <td>45</td>\n",
       "      <td>a</td>\n",
       "      <td>b</td>\n",
       "      <td>136</td>\n",
       "      <td>0.228571</td>\n",
       "    </tr>\n",
       "    <tr>\n",
       "      <th>4</th>\n",
       "      <td>380</td>\n",
       "      <td>65</td>\n",
       "      <td>b</td>\n",
       "      <td>c</td>\n",
       "      <td>159</td>\n",
       "      <td>0.271429</td>\n",
       "    </tr>\n",
       "    <tr>\n",
       "      <th>5</th>\n",
       "      <td>430</td>\n",
       "      <td>90</td>\n",
       "      <td>c</td>\n",
       "      <td>d</td>\n",
       "      <td>184</td>\n",
       "      <td>0.307143</td>\n",
       "    </tr>\n",
       "    <tr>\n",
       "      <th>6</th>\n",
       "      <td>860</td>\n",
       "      <td>65</td>\n",
       "      <td>b</td>\n",
       "      <td>a</td>\n",
       "      <td>117</td>\n",
       "      <td>0.614286</td>\n",
       "    </tr>\n",
       "    <tr>\n",
       "      <th>7</th>\n",
       "      <td>1170</td>\n",
       "      <td>90</td>\n",
       "      <td>c</td>\n",
       "      <td>b</td>\n",
       "      <td>136</td>\n",
       "      <td>0.835714</td>\n",
       "    </tr>\n",
       "    <tr>\n",
       "      <th>8</th>\n",
       "      <td>1260</td>\n",
       "      <td>99</td>\n",
       "      <td>d</td>\n",
       "      <td>c</td>\n",
       "      <td>159</td>\n",
       "      <td>0.900000</td>\n",
       "    </tr>\n",
       "    <tr>\n",
       "      <th>9</th>\n",
       "      <td>1680</td>\n",
       "      <td>90</td>\n",
       "      <td>c</td>\n",
       "      <td>a</td>\n",
       "      <td>117</td>\n",
       "      <td>1.200000</td>\n",
       "    </tr>\n",
       "    <tr>\n",
       "      <th>10</th>\n",
       "      <td>2000</td>\n",
       "      <td>99</td>\n",
       "      <td>d</td>\n",
       "      <td>b</td>\n",
       "      <td>136</td>\n",
       "      <td>1.428571</td>\n",
       "    </tr>\n",
       "    <tr>\n",
       "      <th>11</th>\n",
       "      <td>2880</td>\n",
       "      <td>99</td>\n",
       "      <td>d</td>\n",
       "      <td>a</td>\n",
       "      <td>117</td>\n",
       "      <td>2.057143</td>\n",
       "    </tr>\n",
       "  </tbody>\n",
       "</table>\n",
       "</div>"
      ],
      "text/plain": [
       "    spindle  d1 d2 d3   d4     ratio\n",
       "0       110  45  a  d  184  0.078571\n",
       "1       190  45  a  d  159  0.135714\n",
       "2       220  65  b  d  184  0.157143\n",
       "3       320  45  a  b  136  0.228571\n",
       "4       380  65  b  c  159  0.271429\n",
       "5       430  90  c  d  184  0.307143\n",
       "6       860  65  b  a  117  0.614286\n",
       "7      1170  90  c  b  136  0.835714\n",
       "8      1260  99  d  c  159  0.900000\n",
       "9      1680  90  c  a  117  1.200000\n",
       "10     2000  99  d  b  136  1.428571\n",
       "11     2880  99  d  a  117  2.057143"
      ]
     },
     "execution_count": 2,
     "metadata": {},
     "output_type": "execute_result"
    }
   ],
   "source": [
    "motor = 1400 #rpm\n",
    "\n",
    "table = pandas.read_table(\"table.txt\")\n",
    "table['ratio'] = table.spindle / motor\n",
    "table"
   ]
  },
  {
   "cell_type": "markdown",
   "metadata": {},
   "source": [
    "Kiekvieną lentelės eilutę atitinka viena tiesinė lygtis.\n",
    "\n",
    "$R = \\frac{d_1}{d_2} \\frac{d_3}{d_4}$\n",
    "\n",
    "$d_2 = \\frac{d_1 d_3}{R d_4}$\n",
    "\n",
    "$d_2 - \\frac{d_1}{R d_4} d_3 = 0$"
   ]
  },
  {
   "cell_type": "markdown",
   "metadata": {},
   "source": [
    "Fiksuojame A ir sudarome lygčių sistemą su trim nežinomaisiais: B, C, D. Lygčių sistemos matrica:"
   ]
  },
  {
   "cell_type": "code",
   "execution_count": 24,
   "metadata": {
    "collapsed": false
   },
   "outputs": [
    {
     "data": {
      "text/plain": [
       "matrix([[   0.        ,    0.        ,   -3.11264822, -154.        ],\n",
       "        [   0.        ,    0.        ,   -2.08540218, -154.        ],\n",
       "        [   1.        ,    0.        ,   -2.24802372,    0.        ],\n",
       "        [  -1.44761029,    0.        ,    0.        , -154.        ],\n",
       "        [   1.        ,   -1.5061238 ,    0.        ,    0.        ],\n",
       "        [   0.        ,    1.        ,   -1.59251769,    0.        ],\n",
       "        [   1.        ,    0.        ,    0.        ,  139.27648579],\n",
       "        [  -0.7918552 ,    1.        ,    0.        ,    0.        ],\n",
       "        [   0.        ,   -0.6918239 ,    1.        ,    0.        ],\n",
       "        [   0.        ,    1.        ,    0.        ,   98.71794872],\n",
       "        [  -0.50955882,    0.        ,    1.        ,    0.        ],\n",
       "        [   0.        ,    0.        ,    1.        ,   63.34401709]])"
      ]
     },
     "execution_count": 24,
     "metadata": {},
     "output_type": "execute_result"
    }
   ],
   "source": [
    "indices = dict(zip(\"bcda\", range(4)))\n",
    "\n",
    "d_a = 154\n",
    "\n",
    "def buildrow(spindle, d1, d2, d3, d4, ratio, *args):\n",
    "    i2 = indices[d2]\n",
    "    i3 = indices[d3]\n",
    "    row = numpy.zeros(len(indices))\n",
    "    row[i2] = 1\n",
    "    row[i3] = -d1 / (ratio * d4)\n",
    "    if d2 == 'a':\n",
    "        row[i2] *= -d_a\n",
    "    if d3 == 'a':\n",
    "        row[i3] *= -d_a\n",
    "    return row\n",
    "\n",
    "coeffs = numpy.matrix([buildrow(*r) for i, r in table.iterrows()])\n",
    "coeffs"
   ]
  },
  {
   "cell_type": "code",
   "execution_count": 25,
   "metadata": {
    "collapsed": false
   },
   "outputs": [
    {
     "name": "stdout",
     "output_type": "stream",
     "text": [
      "[[ 120.44942012   87.88298672   56.71564395]] [[ 3006.75267969]] 3 [ 5.02210209  2.85590723  1.72591385]\n"
     ]
    },
    {
     "data": {
      "text/plain": [
       "a    154.000000\n",
       "b    120.449420\n",
       "c     87.882987\n",
       "d     56.715644\n",
       "dtype: float64"
      ]
     },
     "execution_count": 25,
     "metadata": {},
     "output_type": "execute_result"
    }
   ],
   "source": [
    "n = len(indices)\n",
    "solution, residuals, rank, singular = numpy.linalg.lstsq(coeffs[:,0:n - 1], coeffs[:,n - 1])\n",
    "print(solution.T, residuals, rank, singular)\n",
    "\n",
    "ds = pandas.Series([d_a] + list(solution.flat), index=list(\"abcd\"))\n",
    "ds"
   ]
  },
  {
   "cell_type": "markdown",
   "metadata": {},
   "source": [
    "Gauti dydžiai suapvalinami iki milimetrų:"
   ]
  },
  {
   "cell_type": "code",
   "execution_count": 26,
   "metadata": {
    "collapsed": false
   },
   "outputs": [
    {
     "data": {
      "text/plain": [
       "a    154\n",
       "b    120\n",
       "c     88\n",
       "d     57\n",
       "dtype: float64"
      ]
     },
     "execution_count": 26,
     "metadata": {},
     "output_type": "execute_result"
    }
   ],
   "source": [
    "ds = numpy.round(ds)\n",
    "ds"
   ]
  },
  {
   "cell_type": "markdown",
   "metadata": {},
   "source": [
    "Gauti greičiai stulpelyje actual_spindle:"
   ]
  },
  {
   "cell_type": "code",
   "execution_count": 23,
   "metadata": {
    "collapsed": false
   },
   "outputs": [
    {
     "data": {
      "text/html": [
       "<div>\n",
       "<table border=\"1\" class=\"dataframe\">\n",
       "  <thead>\n",
       "    <tr style=\"text-align: right;\">\n",
       "      <th></th>\n",
       "      <th>spindle</th>\n",
       "      <th>d1</th>\n",
       "      <th>d2</th>\n",
       "      <th>d3</th>\n",
       "      <th>d4</th>\n",
       "      <th>ratio</th>\n",
       "      <th>actual_ratio</th>\n",
       "      <th>actual_spindle</th>\n",
       "    </tr>\n",
       "  </thead>\n",
       "  <tbody>\n",
       "    <tr>\n",
       "      <th>0</th>\n",
       "      <td>110</td>\n",
       "      <td>45</td>\n",
       "      <td>a</td>\n",
       "      <td>d</td>\n",
       "      <td>184</td>\n",
       "      <td>0.078571</td>\n",
       "      <td>0.090383</td>\n",
       "      <td>126.535917</td>\n",
       "    </tr>\n",
       "    <tr>\n",
       "      <th>1</th>\n",
       "      <td>190</td>\n",
       "      <td>45</td>\n",
       "      <td>a</td>\n",
       "      <td>d</td>\n",
       "      <td>159</td>\n",
       "      <td>0.135714</td>\n",
       "      <td>0.104594</td>\n",
       "      <td>146.431501</td>\n",
       "    </tr>\n",
       "    <tr>\n",
       "      <th>2</th>\n",
       "      <td>220</td>\n",
       "      <td>65</td>\n",
       "      <td>b</td>\n",
       "      <td>d</td>\n",
       "      <td>184</td>\n",
       "      <td>0.157143</td>\n",
       "      <td>0.166818</td>\n",
       "      <td>233.544686</td>\n",
       "    </tr>\n",
       "    <tr>\n",
       "      <th>3</th>\n",
       "      <td>320</td>\n",
       "      <td>45</td>\n",
       "      <td>a</td>\n",
       "      <td>b</td>\n",
       "      <td>136</td>\n",
       "      <td>0.228571</td>\n",
       "      <td>0.258951</td>\n",
       "      <td>362.531969</td>\n",
       "    </tr>\n",
       "    <tr>\n",
       "      <th>4</th>\n",
       "      <td>380</td>\n",
       "      <td>65</td>\n",
       "      <td>b</td>\n",
       "      <td>c</td>\n",
       "      <td>159</td>\n",
       "      <td>0.271429</td>\n",
       "      <td>0.298087</td>\n",
       "      <td>417.321803</td>\n",
       "    </tr>\n",
       "    <tr>\n",
       "      <th>5</th>\n",
       "      <td>430</td>\n",
       "      <td>90</td>\n",
       "      <td>c</td>\n",
       "      <td>d</td>\n",
       "      <td>184</td>\n",
       "      <td>0.307143</td>\n",
       "      <td>0.316770</td>\n",
       "      <td>443.478261</td>\n",
       "    </tr>\n",
       "    <tr>\n",
       "      <th>6</th>\n",
       "      <td>860</td>\n",
       "      <td>65</td>\n",
       "      <td>b</td>\n",
       "      <td>a</td>\n",
       "      <td>117</td>\n",
       "      <td>0.614286</td>\n",
       "      <td>0.709877</td>\n",
       "      <td>993.827160</td>\n",
       "    </tr>\n",
       "    <tr>\n",
       "      <th>7</th>\n",
       "      <td>1170</td>\n",
       "      <td>90</td>\n",
       "      <td>c</td>\n",
       "      <td>b</td>\n",
       "      <td>136</td>\n",
       "      <td>0.835714</td>\n",
       "      <td>0.907563</td>\n",
       "      <td>1270.588235</td>\n",
       "    </tr>\n",
       "    <tr>\n",
       "      <th>8</th>\n",
       "      <td>1260</td>\n",
       "      <td>99</td>\n",
       "      <td>d</td>\n",
       "      <td>c</td>\n",
       "      <td>159</td>\n",
       "      <td>0.900000</td>\n",
       "      <td>0.961432</td>\n",
       "      <td>1346.004440</td>\n",
       "    </tr>\n",
       "    <tr>\n",
       "      <th>9</th>\n",
       "      <td>1680</td>\n",
       "      <td>90</td>\n",
       "      <td>c</td>\n",
       "      <td>a</td>\n",
       "      <td>117</td>\n",
       "      <td>1.200000</td>\n",
       "      <td>1.347985</td>\n",
       "      <td>1887.179487</td>\n",
       "    </tr>\n",
       "    <tr>\n",
       "      <th>10</th>\n",
       "      <td>2000</td>\n",
       "      <td>99</td>\n",
       "      <td>d</td>\n",
       "      <td>b</td>\n",
       "      <td>136</td>\n",
       "      <td>1.428571</td>\n",
       "      <td>1.541522</td>\n",
       "      <td>2158.131488</td>\n",
       "    </tr>\n",
       "    <tr>\n",
       "      <th>11</th>\n",
       "      <td>2880</td>\n",
       "      <td>99</td>\n",
       "      <td>d</td>\n",
       "      <td>a</td>\n",
       "      <td>117</td>\n",
       "      <td>2.057143</td>\n",
       "      <td>2.289593</td>\n",
       "      <td>3205.429864</td>\n",
       "    </tr>\n",
       "  </tbody>\n",
       "</table>\n",
       "</div>"
      ],
      "text/plain": [
       "    spindle  d1 d2 d3   d4     ratio  actual_ratio  actual_spindle\n",
       "0       110  45  a  d  184  0.078571      0.090383      126.535917\n",
       "1       190  45  a  d  159  0.135714      0.104594      146.431501\n",
       "2       220  65  b  d  184  0.157143      0.166818      233.544686\n",
       "3       320  45  a  b  136  0.228571      0.258951      362.531969\n",
       "4       380  65  b  c  159  0.271429      0.298087      417.321803\n",
       "5       430  90  c  d  184  0.307143      0.316770      443.478261\n",
       "6       860  65  b  a  117  0.614286      0.709877      993.827160\n",
       "7      1170  90  c  b  136  0.835714      0.907563     1270.588235\n",
       "8      1260  99  d  c  159  0.900000      0.961432     1346.004440\n",
       "9      1680  90  c  a  117  1.200000      1.347985     1887.179487\n",
       "10     2000  99  d  b  136  1.428571      1.541522     2158.131488\n",
       "11     2880  99  d  a  117  2.057143      2.289593     3205.429864"
      ]
     },
     "execution_count": 23,
     "metadata": {},
     "output_type": "execute_result"
    }
   ],
   "source": [
    "dsdict = dict(ds)\n",
    "table['actual_ratio'] = [r.d1 / dsdict[r.d2] * dsdict[r.d3] / r.d4 for i, r in table.iterrows()]\n",
    "table['actual_spindle'] = table['actual_ratio'] * motor\n",
    "table"
   ]
  }
 ],
 "metadata": {
  "kernelspec": {
   "display_name": "Python 3",
   "language": "python",
   "name": "python3"
  },
  "language_info": {
   "codemirror_mode": {
    "name": "ipython",
    "version": 3
   },
   "file_extension": ".py",
   "mimetype": "text/x-python",
   "name": "python",
   "nbconvert_exporter": "python",
   "pygments_lexer": "ipython3",
   "version": "3.5.1"
  }
 },
 "nbformat": 4,
 "nbformat_minor": 0
}
